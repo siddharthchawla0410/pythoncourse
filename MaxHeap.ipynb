{
 "cells": [
  {
   "cell_type": "code",
   "execution_count": 53,
   "id": "123bdd59",
   "metadata": {},
   "outputs": [],
   "source": [
    "class StringComp():\n",
    "    def __init__(self,word):\n",
    "        self.word=word\n",
    "    def __lt__(self,other):\n",
    "        return self.word>other.word\n",
    "    def __repr__(self):\n",
    "        return f\"String({self.word})\""
   ]
  },
  {
   "cell_type": "code",
   "execution_count": 54,
   "id": "57df6848",
   "metadata": {},
   "outputs": [
    {
     "name": "stdout",
     "output_type": "stream",
     "text": [
      "[String(d), String(c), String(b), String(aa), String(a)]\n"
     ]
    }
   ],
   "source": [
    "import heapq\n",
    "str_heap= []\n",
    "heapq.heapify(str_heap)\n",
    "for word in ['c', 'aa', 'b', 'd', 'a']:\n",
    "    heapq.heappush(str_heap, StringComp(word))\n",
    "print(str_heap)"
   ]
  },
  {
   "cell_type": "code",
   "execution_count": null,
   "id": "af2687e6",
   "metadata": {},
   "outputs": [],
   "source": []
  }
 ],
 "metadata": {
  "kernelspec": {
   "display_name": "Python 3 (ipykernel)",
   "language": "python",
   "name": "python3"
  },
  "language_info": {
   "codemirror_mode": {
    "name": "ipython",
    "version": 3
   },
   "file_extension": ".py",
   "mimetype": "text/x-python",
   "name": "python",
   "nbconvert_exporter": "python",
   "pygments_lexer": "ipython3",
   "version": "3.7.6"
  }
 },
 "nbformat": 4,
 "nbformat_minor": 5
}
