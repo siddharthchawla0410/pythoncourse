{
 "cells": [
  {
   "cell_type": "code",
   "execution_count": 28,
   "id": "123bdd59",
   "metadata": {},
   "outputs": [],
   "source": [
    "class StringComp():\n",
    "    def __init__(self,word):\n",
    "        self.word=word\n",
    "    def __lt__(self,other):\n",
    "        return not self.word<other.word\n",
    "    # def __gt__(self,other):\n",
    "    #     return not self.word>other.word\n",
    "    # def __lte__(self,other):\n",
    "    #     return not self.word<= other.word\n",
    "    # def __gte__(self,other):\n",
    "    #     return not self.word>= other.word\n",
    "    def __repr__(self):\n",
    "        return f\"String({self.word})\""
   ]
  },
  {
   "cell_type": "code",
   "execution_count": 31,
   "id": "57df6848",
   "metadata": {},
   "outputs": [
    {
     "name": "stdout",
     "output_type": "stream",
     "text": [
      "['a', 'b', 'a', 'c', 'd', 'aa']\n"
     ]
    }
   ],
   "source": [
    "import heapq\n",
    "str_heap= []\n",
    "heapq.heapify(str_heap)\n",
    "for word in ['a','c', 'aa', 'b', 'd', 'a']:\n",
    "    heapq.heappush(str_heap, word)\n",
    "print(str_heap)"
   ]
  },
  {
   "cell_type": "code",
   "execution_count": 32,
   "id": "af2687e6",
   "metadata": {},
   "outputs": [
    {
     "name": "stdout",
     "output_type": "stream",
     "text": [
      "a\n",
      "a\n",
      "aa\n",
      "b\n",
      "c\n",
      "d\n"
     ]
    }
   ],
   "source": [
    "while str_heap:\n",
    "    x=heapq.heappop(str_heap)\n",
    "    print(x)"
   ]
  },
  {
   "cell_type": "code",
   "execution_count": null,
   "id": "42515174-644c-478d-b312-01c59761fa73",
   "metadata": {},
   "outputs": [],
   "source": []
  }
 ],
 "metadata": {
  "kernelspec": {
   "display_name": "Python 3 (ipykernel)",
   "language": "python",
   "name": "python3"
  },
  "language_info": {
   "codemirror_mode": {
    "name": "ipython",
    "version": 3
   },
   "file_extension": ".py",
   "mimetype": "text/x-python",
   "name": "python",
   "nbconvert_exporter": "python",
   "pygments_lexer": "ipython3",
   "version": "3.12.4"
  }
 },
 "nbformat": 4,
 "nbformat_minor": 5
}
