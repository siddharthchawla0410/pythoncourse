{
 "cells": [
  {
   "cell_type": "code",
   "execution_count": 3,
   "id": "e981bd63-ab20-4f0d-a7ef-909464172881",
   "metadata": {},
   "outputs": [],
   "source": [
    "class Person:\n",
    "    count = 0\n",
    "\n",
    "    def __init__(self, name):\n",
    "        self.name = name\n",
    "        type(self).count += 1  # Or Person.count += 1\n",
    "\n",
    "    @classmethod\n",
    "    def how_many(cls):\n",
    "        return cls.count\n",
    "    @staticmethod\n",
    "    def howmany():\n",
    "        return count"
   ]
  },
  {
   "cell_type": "code",
   "execution_count": 4,
   "id": "e122ccea-6eb0-4ce8-84ce-f91456696d5d",
   "metadata": {},
   "outputs": [
    {
     "name": "stdout",
     "output_type": "stream",
     "text": [
      "<class 'function'>\n",
      "<class 'method'>\n"
     ]
    }
   ],
   "source": [
    "fn1=Person.howmany\n",
    "fn2=Person.how_many\n",
    "print(type(fn1))\n",
    "print(type(fn2))"
   ]
  },
  {
   "cell_type": "code",
   "execution_count": null,
   "id": "bf0dacb8-85db-4a6e-bf00-fe228834ffae",
   "metadata": {},
   "outputs": [],
   "source": []
  }
 ],
 "metadata": {
  "kernelspec": {
   "display_name": "Python 3 (ipykernel)",
   "language": "python",
   "name": "python3"
  },
  "language_info": {
   "codemirror_mode": {
    "name": "ipython",
    "version": 3
   },
   "file_extension": ".py",
   "mimetype": "text/x-python",
   "name": "python",
   "nbconvert_exporter": "python",
   "pygments_lexer": "ipython3",
   "version": "3.12.4"
  }
 },
 "nbformat": 4,
 "nbformat_minor": 5
}
