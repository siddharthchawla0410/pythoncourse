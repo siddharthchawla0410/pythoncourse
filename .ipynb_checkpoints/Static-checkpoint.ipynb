{
 "cells": [
  {
   "cell_type": "code",
   "execution_count": 6,
   "id": "37cce391-a261-4bb1-8d88-57814c9e1e4d",
   "metadata": {},
   "outputs": [
    {
     "name": "stdout",
     "output_type": "stream",
     "text": [
      "Count is: 3\n"
     ]
    }
   ],
   "source": [
    "class Counter:\n",
    "    count = 0  # Static variable\n",
    "\n",
    "    def __init__(self):\n",
    "        Counter.count += 1\n",
    "    \n",
    "    @staticmethod\n",
    "    def show_count():\n",
    "        print(f\"Count is: {Counter.count}\")\n",
    "\n",
    "# Usage\n",
    "a = Counter()\n",
    "b = Counter()\n",
    "c = Counter()\n",
    "\n",
    "Counter.show_count()  # Output: Count is: 3\n"
   ]
  },
  {
   "cell_type": "code",
   "execution_count": null,
   "id": "f56ee59f-2f74-4bfa-931c-bd47285b32b3",
   "metadata": {},
   "outputs": [],
   "source": []
  }
 ],
 "metadata": {
  "kernelspec": {
   "display_name": "Python 3 (ipykernel)",
   "language": "python",
   "name": "python3"
  },
  "language_info": {
   "codemirror_mode": {
    "name": "ipython",
    "version": 3
   },
   "file_extension": ".py",
   "mimetype": "text/x-python",
   "name": "python",
   "nbconvert_exporter": "python",
   "pygments_lexer": "ipython3",
   "version": "3.12.4"
  }
 },
 "nbformat": 4,
 "nbformat_minor": 5
}
