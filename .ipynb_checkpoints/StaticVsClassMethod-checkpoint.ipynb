{
 "cells": [
  {
   "cell_type": "code",
   "execution_count": 1,
   "id": "a215aa73-00c4-43a6-ad0a-346f9e4cde92",
   "metadata": {},
   "outputs": [],
   "source": [
    "class Counter:\n",
    "    count = 0  # Static variable\n",
    "\n",
    "    def __init__(self):\n",
    "        Counter.count += 1\n",
    "    \n",
    "    @staticmethod\n",
    "    def show_count():\n",
    "        print(f\"Count is: {Counter.count}\")\n",
    "\n",
    "class CarCounter(Counter):\n",
    "    pass"
   ]
  },
  {
   "cell_type": "code",
   "execution_count": 2,
   "id": "7c722953-13ca-4df1-8964-a497b186a2a5",
   "metadata": {},
   "outputs": [
    {
     "name": "stdout",
     "output_type": "stream",
     "text": [
      "Count is: 3\n"
     ]
    }
   ],
   "source": [
    "# Usage\n",
    "a = Counter()\n",
    "b = Counter()\n",
    "c = Counter()\n",
    "\n",
    "Counter.show_count()  # Output: Count is: 3"
   ]
  },
  {
   "cell_type": "code",
   "execution_count": 3,
   "id": "85b8e013-4f6e-4eae-bfea-70559a9b4f84",
   "metadata": {},
   "outputs": [],
   "source": [
    "cc=CarCounter()"
   ]
  },
  {
   "cell_type": "code",
   "execution_count": 4,
   "id": "01ee9d15-ebf9-4b91-8e14-abc31f7e1eb2",
   "metadata": {},
   "outputs": [
    {
     "name": "stdout",
     "output_type": "stream",
     "text": [
      "Count is: 4\n"
     ]
    }
   ],
   "source": [
    "cc.show_count()"
   ]
  },
  {
   "cell_type": "code",
   "execution_count": 1,
   "id": "dcb33884-fe56-40e5-9a45-dc9dc8b0cb5c",
   "metadata": {},
   "outputs": [],
   "source": [
    "class Person:\n",
    "    count = 0\n",
    "\n",
    "    def __init__(self, name):\n",
    "        self.name = name\n",
    "        type(self).count += 1  # Or Person.count += 1\n",
    "\n",
    "    @classmethod\n",
    "    def how_many(cls):\n",
    "        return cls.count\n",
    "\n",
    "class Employee(Person):\n",
    "    pass"
   ]
  },
  {
   "cell_type": "code",
   "execution_count": 2,
   "id": "607be7df-1d49-4598-a407-8dca1f428222",
   "metadata": {},
   "outputs": [
    {
     "name": "stdout",
     "output_type": "stream",
     "text": [
      "2\n",
      "0\n"
     ]
    }
   ],
   "source": [
    "e1 = Employee(\"Jane\")\n",
    "e2 = Employee(\"Doe\")\n",
    "\n",
    "print(Employee.how_many())  # Output: 2\n",
    "print(Person.how_many())    # Output: 0"
   ]
  },
  {
   "cell_type": "code",
   "execution_count": null,
   "id": "ea850391-35e9-444d-89e6-022dc9915895",
   "metadata": {},
   "outputs": [],
   "source": []
  }
 ],
 "metadata": {
  "kernelspec": {
   "display_name": "Python 3 (ipykernel)",
   "language": "python",
   "name": "python3"
  },
  "language_info": {
   "codemirror_mode": {
    "name": "ipython",
    "version": 3
   },
   "file_extension": ".py",
   "mimetype": "text/x-python",
   "name": "python",
   "nbconvert_exporter": "python",
   "pygments_lexer": "ipython3",
   "version": "3.12.4"
  }
 },
 "nbformat": 4,
 "nbformat_minor": 5
}
