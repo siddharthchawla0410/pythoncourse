{
 "cells": [
  {
   "cell_type": "code",
   "execution_count": 1,
   "id": "97c94eda",
   "metadata": {},
   "outputs": [],
   "source": [
    "class Person():\n",
    "    def __init__(self,name,age):\n",
    "        self.name=name\n",
    "        self.age=age\n",
    "    def __repr__(self):\n",
    "        return f\"Person:({self.name},{self.age},{id(self)})\""
   ]
  },
  {
   "cell_type": "code",
   "execution_count": 2,
   "id": "6dd39d54",
   "metadata": {},
   "outputs": [],
   "source": [
    "p1=Person(\"Raj\",89)\n",
    "p2=Person(\"Sheenu\",67)\n",
    "p3=Person(\"Alice\",45)"
   ]
  },
  {
   "cell_type": "code",
   "execution_count": 3,
   "id": "119c527b",
   "metadata": {},
   "outputs": [],
   "source": [
    "tup=(p1,p2,p3)"
   ]
  },
  {
   "cell_type": "code",
   "execution_count": 4,
   "id": "58141fca",
   "metadata": {},
   "outputs": [
    {
     "name": "stdout",
     "output_type": "stream",
     "text": [
      "(Person:(Raj,89,1932445823112), Person:(Sheenu,67,1932445824776), Person:(Alice,45,1932445824712))\n",
      "1932445681768\n"
     ]
    }
   ],
   "source": [
    "print(tup)\n",
    "print(id(tup))"
   ]
  },
  {
   "cell_type": "code",
   "execution_count": 5,
   "id": "1c1f035e",
   "metadata": {},
   "outputs": [],
   "source": [
    "p1.name=\"Yash\""
   ]
  },
  {
   "cell_type": "code",
   "execution_count": 6,
   "id": "cc14c7bc",
   "metadata": {},
   "outputs": [
    {
     "name": "stdout",
     "output_type": "stream",
     "text": [
      "(Person:(Yash,89,1932445823112), Person:(Sheenu,67,1932445824776), Person:(Alice,45,1932445824712))\n",
      "1932445681768\n"
     ]
    }
   ],
   "source": [
    "print(tup)\n",
    "print(id(tup))"
   ]
  },
  {
   "cell_type": "code",
   "execution_count": 7,
   "id": "f187a05b",
   "metadata": {},
   "outputs": [],
   "source": [
    "tup=tup+(\"hello\",)"
   ]
  },
  {
   "cell_type": "code",
   "execution_count": 8,
   "id": "cbe9fe80",
   "metadata": {},
   "outputs": [
    {
     "data": {
      "text/plain": [
       "(Person:(Yash,89,1932445823112),\n",
       " Person:(Sheenu,67,1932445824776),\n",
       " Person:(Alice,45,1932445824712),\n",
       " 'hello')"
      ]
     },
     "execution_count": 8,
     "metadata": {},
     "output_type": "execute_result"
    }
   ],
   "source": [
    "tup"
   ]
  },
  {
   "cell_type": "code",
   "execution_count": 9,
   "id": "1cf02d89",
   "metadata": {},
   "outputs": [
    {
     "data": {
      "text/plain": [
       "1932445832520"
      ]
     },
     "execution_count": 9,
     "metadata": {},
     "output_type": "execute_result"
    }
   ],
   "source": [
    "id(tup)"
   ]
  },
  {
   "cell_type": "code",
   "execution_count": 18,
   "id": "93206eb5",
   "metadata": {},
   "outputs": [
    {
     "data": {
      "text/plain": [
       "5030763108690692069"
      ]
     },
     "execution_count": 18,
     "metadata": {},
     "output_type": "execute_result"
    }
   ],
   "source": [
    "hash(tup)"
   ]
  },
  {
   "cell_type": "code",
   "execution_count": 10,
   "id": "93b15e56",
   "metadata": {},
   "outputs": [
    {
     "name": "stdout",
     "output_type": "stream",
     "text": [
      "1932445885768\n",
      "1932445885768\n"
     ]
    }
   ],
   "source": [
    "lst=[]\n",
    "lst.append(\"hello\")\n",
    "print(id(lst))\n",
    "lst.append(\"hi\")\n",
    "print(id(lst))\n",
    "lst.append(p1)"
   ]
  },
  {
   "cell_type": "code",
   "execution_count": 11,
   "id": "0106f158",
   "metadata": {},
   "outputs": [
    {
     "data": {
      "text/plain": [
       "['hello', 'hi', Person:(Yash,89,1932445823112)]"
      ]
     },
     "execution_count": 11,
     "metadata": {},
     "output_type": "execute_result"
    }
   ],
   "source": [
    "lst"
   ]
  },
  {
   "cell_type": "code",
   "execution_count": 12,
   "id": "ab763c61",
   "metadata": {},
   "outputs": [
    {
     "data": {
      "text/plain": [
       "1932445885768"
      ]
     },
     "execution_count": 12,
     "metadata": {},
     "output_type": "execute_result"
    }
   ],
   "source": [
    "id(lst)"
   ]
  },
  {
   "cell_type": "code",
   "execution_count": 13,
   "id": "62923f31",
   "metadata": {},
   "outputs": [],
   "source": [
    "lst=lst+[p2,p3]"
   ]
  },
  {
   "cell_type": "code",
   "execution_count": 14,
   "id": "1a4e7c79",
   "metadata": {},
   "outputs": [
    {
     "data": {
      "text/plain": [
       "['hello',\n",
       " 'hi',\n",
       " Person:(Yash,89,1932445823112),\n",
       " Person:(Sheenu,67,1932445824776),\n",
       " Person:(Alice,45,1932445824712)]"
      ]
     },
     "execution_count": 14,
     "metadata": {},
     "output_type": "execute_result"
    }
   ],
   "source": [
    "lst"
   ]
  },
  {
   "cell_type": "code",
   "execution_count": 15,
   "id": "f15fa6db",
   "metadata": {},
   "outputs": [
    {
     "data": {
      "text/plain": [
       "1932445883080"
      ]
     },
     "execution_count": 15,
     "metadata": {},
     "output_type": "execute_result"
    }
   ],
   "source": [
    "id(lst)"
   ]
  },
  {
   "cell_type": "code",
   "execution_count": 17,
   "id": "26d4c0fd",
   "metadata": {},
   "outputs": [
    {
     "ename": "TypeError",
     "evalue": "unhashable type: 'list'",
     "output_type": "error",
     "traceback": [
      "\u001b[1;31m---------------------------------------------------------------------------\u001b[0m",
      "\u001b[1;31mTypeError\u001b[0m                                 Traceback (most recent call last)",
      "\u001b[1;32m~\\AppData\\Local\\Temp\\ipykernel_7948\\3603484799.py\u001b[0m in \u001b[0;36m<module>\u001b[1;34m\u001b[0m\n\u001b[1;32m----> 1\u001b[1;33m \u001b[0mhash\u001b[0m\u001b[1;33m(\u001b[0m\u001b[0mlst\u001b[0m\u001b[1;33m)\u001b[0m\u001b[1;33m\u001b[0m\u001b[1;33m\u001b[0m\u001b[0m\n\u001b[0m",
      "\u001b[1;31mTypeError\u001b[0m: unhashable type: 'list'"
     ]
    }
   ],
   "source": [
    "hash(lst)"
   ]
  },
  {
   "cell_type": "code",
   "execution_count": null,
   "id": "238bf97b",
   "metadata": {},
   "outputs": [],
   "source": []
  }
 ],
 "metadata": {
  "kernelspec": {
   "display_name": "Python 3 (ipykernel)",
   "language": "python",
   "name": "python3"
  },
  "language_info": {
   "codemirror_mode": {
    "name": "ipython",
    "version": 3
   },
   "file_extension": ".py",
   "mimetype": "text/x-python",
   "name": "python",
   "nbconvert_exporter": "python",
   "pygments_lexer": "ipython3",
   "version": "3.7.6"
  }
 },
 "nbformat": 4,
 "nbformat_minor": 5
}
