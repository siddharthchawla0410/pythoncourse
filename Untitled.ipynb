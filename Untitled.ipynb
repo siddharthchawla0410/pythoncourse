{
 "cells": [
  {
   "cell_type": "code",
   "execution_count": 1,
   "id": "91b8b45c-a20c-4ac1-a387-0dae1f531c9d",
   "metadata": {},
   "outputs": [],
   "source": [
    "class A:\n",
    "    def fun():\n",
    "        print(\"Hello\")\n",
    "        \n",
    "    def fun2():\n",
    "        print(f\"Hello {A.x}\")\n",
    "    \n",
    "    def fun3(x):\n",
    "        print(x)\n",
    "    \n",
    "    def fun4(self,x):\n",
    "        print(x)"
   ]
  },
  {
   "cell_type": "code",
   "execution_count": 2,
   "id": "7cb42bb6-0749-414a-ba8e-8518e20aaec7",
   "metadata": {},
   "outputs": [],
   "source": [
    "a=A()"
   ]
  },
  {
   "cell_type": "code",
   "execution_count": 3,
   "id": "13bb012f-2b19-4c42-ac97-f9c4c07ee5a3",
   "metadata": {},
   "outputs": [
    {
     "name": "stdout",
     "output_type": "stream",
     "text": [
      "Hello\n"
     ]
    }
   ],
   "source": [
    "A.fun()"
   ]
  },
  {
   "cell_type": "code",
   "execution_count": 4,
   "id": "314da3f6-ea08-4a3b-8064-48ed16300395",
   "metadata": {},
   "outputs": [],
   "source": [
    "A.x=5"
   ]
  },
  {
   "cell_type": "code",
   "execution_count": 5,
   "id": "c63a9ade-2261-4331-88c7-ee18d3a82add",
   "metadata": {},
   "outputs": [
    {
     "name": "stdout",
     "output_type": "stream",
     "text": [
      "Hello 5\n"
     ]
    }
   ],
   "source": [
    "A.fun2()"
   ]
  },
  {
   "cell_type": "code",
   "execution_count": 6,
   "id": "6375555c-94ad-48a6-a02b-fe3eb055039c",
   "metadata": {},
   "outputs": [],
   "source": [
    "a=A()"
   ]
  },
  {
   "cell_type": "code",
   "execution_count": 7,
   "id": "4f343b49-8f72-434a-a4e1-9909e1e6ee9e",
   "metadata": {},
   "outputs": [
    {
     "data": {
      "text/plain": [
       "5"
      ]
     },
     "execution_count": 7,
     "metadata": {},
     "output_type": "execute_result"
    }
   ],
   "source": [
    "a.x"
   ]
  },
  {
   "cell_type": "code",
   "execution_count": 8,
   "id": "6e360b08-e6f3-4730-b5f8-e0c07d112358",
   "metadata": {},
   "outputs": [],
   "source": [
    "A.x=6"
   ]
  },
  {
   "cell_type": "code",
   "execution_count": 9,
   "id": "868cc8ee-e4b9-4d31-9a2f-835f71956e09",
   "metadata": {},
   "outputs": [
    {
     "name": "stdout",
     "output_type": "stream",
     "text": [
      "hello\n"
     ]
    }
   ],
   "source": [
    "A.fun3(\"hello\")"
   ]
  },
  {
   "cell_type": "code",
   "execution_count": 11,
   "id": "7356da77-0cba-4586-8bff-c6ba791e5df8",
   "metadata": {},
   "outputs": [
    {
     "name": "stdout",
     "output_type": "stream",
     "text": [
      "Bye\n"
     ]
    }
   ],
   "source": [
    "A.fun4(None,\"Bye\")"
   ]
  },
  {
   "cell_type": "code",
   "execution_count": 11,
   "id": "bb1cc1c0-5af3-4c23-a5e0-068cbf844880",
   "metadata": {},
   "outputs": [],
   "source": [
    "b=A()"
   ]
  },
  {
   "cell_type": "code",
   "execution_count": 12,
   "id": "d88cf802-707a-4e26-a499-e3aabc8b8572",
   "metadata": {},
   "outputs": [
    {
     "data": {
      "text/plain": [
       "6"
      ]
     },
     "execution_count": 12,
     "metadata": {},
     "output_type": "execute_result"
    }
   ],
   "source": [
    "b.x"
   ]
  },
  {
   "cell_type": "code",
   "execution_count": 13,
   "id": "9d546129-138d-4bf4-bc91-3d3d6c76207c",
   "metadata": {},
   "outputs": [
    {
     "data": {
      "text/plain": [
       "6"
      ]
     },
     "execution_count": 13,
     "metadata": {},
     "output_type": "execute_result"
    }
   ],
   "source": [
    "a.x"
   ]
  },
  {
   "cell_type": "code",
   "execution_count": 37,
   "id": "282b19e8-252b-4f1a-bdd6-2abb5ce30a1e",
   "metadata": {},
   "outputs": [],
   "source": [
    "class B:\n",
    "    def __init__(self,x,y):\n",
    "        self.x=x;\n",
    "        self.y=y;\n",
    "    def fun(self):\n",
    "        print(self.x)"
   ]
  },
  {
   "cell_type": "code",
   "execution_count": 38,
   "id": "f52e9cb5-3d5d-4629-980e-1088e615ba4c",
   "metadata": {},
   "outputs": [],
   "source": [
    "obj1=B(4,5)"
   ]
  },
  {
   "cell_type": "code",
   "execution_count": 39,
   "id": "2838e9e2-4f26-49aa-911f-d43f438b5baa",
   "metadata": {},
   "outputs": [
    {
     "data": {
      "text/plain": [
       "4"
      ]
     },
     "execution_count": 39,
     "metadata": {},
     "output_type": "execute_result"
    }
   ],
   "source": [
    "obj1.x"
   ]
  },
  {
   "cell_type": "code",
   "execution_count": 40,
   "id": "98c1bf9b-50b3-4d7a-8cc8-75329fef0e8e",
   "metadata": {},
   "outputs": [
    {
     "data": {
      "text/plain": [
       "5"
      ]
     },
     "execution_count": 40,
     "metadata": {},
     "output_type": "execute_result"
    }
   ],
   "source": [
    "obj1.y"
   ]
  },
  {
   "cell_type": "code",
   "execution_count": 41,
   "id": "35a616e3-2443-4f00-93f7-b4ae089dcd6b",
   "metadata": {},
   "outputs": [
    {
     "name": "stdout",
     "output_type": "stream",
     "text": [
      "4\n"
     ]
    }
   ],
   "source": [
    "obj1.fun()"
   ]
  },
  {
   "cell_type": "markdown",
   "id": "8ac27411-e4d0-4925-a835-a422577104c0",
   "metadata": {},
   "source": []
  }
 ],
 "metadata": {
  "kernelspec": {
   "display_name": "Python 3 (ipykernel)",
   "language": "python",
   "name": "python3"
  },
  "language_info": {
   "codemirror_mode": {
    "name": "ipython",
    "version": 3
   },
   "file_extension": ".py",
   "mimetype": "text/x-python",
   "name": "python",
   "nbconvert_exporter": "python",
   "pygments_lexer": "ipython3",
   "version": "3.12.4"
  }
 },
 "nbformat": 4,
 "nbformat_minor": 5
}
