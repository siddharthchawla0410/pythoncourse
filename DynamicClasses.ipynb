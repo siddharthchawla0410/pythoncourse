{
 "cells": [
  {
   "cell_type": "code",
   "execution_count": 1,
   "id": "7e8d34a6",
   "metadata": {},
   "outputs": [],
   "source": [
    "class Dino():\n",
    "    def __init__(self,name):\n",
    "        self.name=name\n",
    "    def displaywalk(self):\n",
    "        self.walk=\"run\"\n",
    "        print(f\"Walk:{self.walk}\")"
   ]
  },
  {
   "cell_type": "code",
   "execution_count": 2,
   "id": "299d7952",
   "metadata": {},
   "outputs": [],
   "source": [
    "trex=Dino(\"TREX\")"
   ]
  },
  {
   "cell_type": "code",
   "execution_count": 3,
   "id": "d5e81ecb",
   "metadata": {},
   "outputs": [
    {
     "ename": "AttributeError",
     "evalue": "'Dino' object has no attribute 'walk'",
     "output_type": "error",
     "traceback": [
      "\u001b[1;31m---------------------------------------------------------------------------\u001b[0m",
      "\u001b[1;31mAttributeError\u001b[0m                            Traceback (most recent call last)",
      "\u001b[1;32m~\\AppData\\Local\\Temp\\ipykernel_1656\\4226825338.py\u001b[0m in \u001b[0;36m<module>\u001b[1;34m\u001b[0m\n\u001b[1;32m----> 1\u001b[1;33m \u001b[0mtrex\u001b[0m\u001b[1;33m.\u001b[0m\u001b[0mwalk\u001b[0m\u001b[1;33m\u001b[0m\u001b[1;33m\u001b[0m\u001b[0m\n\u001b[0m",
      "\u001b[1;31mAttributeError\u001b[0m: 'Dino' object has no attribute 'walk'"
     ]
    }
   ],
   "source": [
    "trex.walk"
   ]
  },
  {
   "cell_type": "code",
   "execution_count": 4,
   "id": "3b56c66a",
   "metadata": {},
   "outputs": [
    {
     "name": "stdout",
     "output_type": "stream",
     "text": [
      "Walk:run\n"
     ]
    }
   ],
   "source": [
    "# INIT walk in displaywalk\n",
    "trex.displaywalk()"
   ]
  },
  {
   "cell_type": "code",
   "execution_count": 5,
   "id": "daca4690",
   "metadata": {},
   "outputs": [
    {
     "data": {
      "text/plain": [
       "'run'"
      ]
     },
     "execution_count": 5,
     "metadata": {},
     "output_type": "execute_result"
    }
   ],
   "source": [
    "# walk\n",
    "trex.walk"
   ]
  },
  {
   "cell_type": "code",
   "execution_count": 6,
   "id": "db013580",
   "metadata": {},
   "outputs": [
    {
     "data": {
      "text/plain": [
       "{'name': 'TREX', 'walk': 'run'}"
      ]
     },
     "execution_count": 6,
     "metadata": {},
     "output_type": "execute_result"
    }
   ],
   "source": [
    "trex.__dict__"
   ]
  },
  {
   "cell_type": "code",
   "execution_count": 7,
   "id": "267702aa",
   "metadata": {},
   "outputs": [],
   "source": [
    "# walk from trex\n",
    "del(trex.walk)"
   ]
  },
  {
   "cell_type": "code",
   "execution_count": 8,
   "id": "9d65b64e",
   "metadata": {},
   "outputs": [
    {
     "data": {
      "text/plain": [
       "{'name': 'TREX'}"
      ]
     },
     "execution_count": 8,
     "metadata": {},
     "output_type": "execute_result"
    }
   ],
   "source": [
    "trex.__dict__"
   ]
  },
  {
   "cell_type": "code",
   "execution_count": 9,
   "id": "3f70ab77",
   "metadata": {},
   "outputs": [],
   "source": [
    "# Adding 'year' instance variable in trex instance\n",
    "trex.year=\"2020\""
   ]
  },
  {
   "cell_type": "code",
   "execution_count": 10,
   "id": "a286dc64",
   "metadata": {},
   "outputs": [
    {
     "data": {
      "text/plain": [
       "{'name': 'TREX', 'year': '2020'}"
      ]
     },
     "execution_count": 10,
     "metadata": {},
     "output_type": "execute_result"
    }
   ],
   "source": [
    "trex.__dict__"
   ]
  },
  {
   "cell_type": "code",
   "execution_count": 11,
   "id": "436325aa",
   "metadata": {},
   "outputs": [],
   "source": [
    "def abc():\n",
    "    print(\"abc\")"
   ]
  },
  {
   "cell_type": "code",
   "execution_count": 12,
   "id": "eed77b02",
   "metadata": {},
   "outputs": [],
   "source": [
    "# adding method dynamically\n",
    "trex.meth=abc"
   ]
  },
  {
   "cell_type": "code",
   "execution_count": 13,
   "id": "b40403ff",
   "metadata": {},
   "outputs": [
    {
     "name": "stdout",
     "output_type": "stream",
     "text": [
      "abc\n"
     ]
    }
   ],
   "source": [
    "trex.meth()"
   ]
  }
 ],
 "metadata": {
  "kernelspec": {
   "display_name": "Python 3 (ipykernel)",
   "language": "python",
   "name": "python3"
  },
  "language_info": {
   "codemirror_mode": {
    "name": "ipython",
    "version": 3
   },
   "file_extension": ".py",
   "mimetype": "text/x-python",
   "name": "python",
   "nbconvert_exporter": "python",
   "pygments_lexer": "ipython3",
   "version": "3.12.4"
  }
 },
 "nbformat": 4,
 "nbformat_minor": 5
}
