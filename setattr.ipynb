{
 "cells": [
  {
   "cell_type": "code",
   "execution_count": 5,
   "id": "15d84662-f5e6-436e-8f51-7cd0fc201d4a",
   "metadata": {},
   "outputs": [
    {
     "name": "stdout",
     "output_type": "stream",
     "text": [
      "Setting x = 10\n"
     ]
    }
   ],
   "source": [
    "class MyClass:\n",
    "    def __setattr__(self, name, value):\n",
    "        print(f\"Setting {name} = {value}\")\n",
    "        super().__setattr__(name, value) # commentinig this line will not set the value\n",
    "\n",
    "obj = MyClass()\n",
    "obj.x = 10  # Triggers __setattr__"
   ]
  },
  {
   "cell_type": "code",
   "execution_count": 6,
   "id": "e192a3b5-3e61-4b01-8240-52a8a6f33823",
   "metadata": {},
   "outputs": [
    {
     "data": {
      "text/plain": [
       "10"
      ]
     },
     "execution_count": 6,
     "metadata": {},
     "output_type": "execute_result"
    }
   ],
   "source": [
    "obj.x"
   ]
  },
  {
   "cell_type": "code",
   "execution_count": null,
   "id": "9f064f09-c531-40bd-95d6-ba7c6e84e5dc",
   "metadata": {},
   "outputs": [],
   "source": []
  }
 ],
 "metadata": {
  "kernelspec": {
   "display_name": "Python 3 (ipykernel)",
   "language": "python",
   "name": "python3"
  },
  "language_info": {
   "codemirror_mode": {
    "name": "ipython",
    "version": 3
   },
   "file_extension": ".py",
   "mimetype": "text/x-python",
   "name": "python",
   "nbconvert_exporter": "python",
   "pygments_lexer": "ipython3",
   "version": "3.12.4"
  }
 },
 "nbformat": 4,
 "nbformat_minor": 5
}
