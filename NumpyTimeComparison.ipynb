{
 "cells": [
  {
   "cell_type": "code",
   "execution_count": 1,
   "id": "e8491f12-f881-4a91-9229-1c3ae881cb67",
   "metadata": {},
   "outputs": [
    {
     "ename": "ModuleNotFoundError",
     "evalue": "No module named 'numpy'",
     "output_type": "error",
     "traceback": [
      "\u001b[31m---------------------------------------------------------------------------\u001b[39m",
      "\u001b[31mModuleNotFoundError\u001b[39m                       Traceback (most recent call last)",
      "\u001b[36mCell\u001b[39m\u001b[36m \u001b[39m\u001b[32mIn[1]\u001b[39m\u001b[32m, line 3\u001b[39m\n\u001b[32m      1\u001b[39m \u001b[38;5;66;03m# Online Python compiler (interpreter) to run Python online.\u001b[39;00m\n\u001b[32m      2\u001b[39m \u001b[38;5;66;03m# Write Python 3 code in this online editor and run it.\u001b[39;00m\n\u001b[32m----> \u001b[39m\u001b[32m3\u001b[39m \u001b[38;5;28;01mimport\u001b[39;00m\u001b[38;5;250m \u001b[39m\u001b[34;01mnumpy\u001b[39;00m\u001b[38;5;250m \u001b[39m\u001b[38;5;28;01mas\u001b[39;00m\u001b[38;5;250m \u001b[39m\u001b[34;01mnp\u001b[39;00m\n\u001b[32m      4\u001b[39m \u001b[38;5;28;01mimport\u001b[39;00m\u001b[38;5;250m \u001b[39m\u001b[34;01mtime\u001b[39;00m\n\u001b[32m      6\u001b[39m size = \u001b[32m10000000\u001b[39m\n",
      "\u001b[31mModuleNotFoundError\u001b[39m: No module named 'numpy'"
     ]
    }
   ],
   "source": [
    "# Online Python compiler (interpreter) to run Python online.\n",
    "# Write Python 3 code in this online editor and run it.\n",
    "import numpy as np\n",
    "import time\n",
    "\n",
    "size = 10000000\n",
    "\n",
    "# Generate two lists\n",
    "a = list(range(size))\n",
    "b = list(range(size))\n",
    "\n",
    "# Time list addition\n",
    "start = time.time()\n",
    "c = [a[i] + b[i] for i in range(size)]\n",
    "end = time.time()\n",
    "\n",
    "print(\"Python list addition time:\", end - start)\n",
    "\n",
    "\n",
    "\n",
    "# Generate two numpy arrays\n",
    "# a_np = np.arange(size)\n",
    "# b_np = np.arange(size)\n",
    "\n",
    "# Time numpy addition\n",
    "start = time.time()\n",
    "a=np.array(range(size))\n",
    "b=np.array(range(size))\n",
    "c_np = a_np + b_np\n",
    "end = time.time()\n",
    "\n",
    "print(\"NumPy addition time:\", end - start)"
   ]
  },
  {
   "cell_type": "code",
   "execution_count": null,
   "id": "b6285e88-4a3f-4311-af05-d14bbc98d370",
   "metadata": {},
   "outputs": [],
   "source": []
  }
 ],
 "metadata": {
  "kernelspec": {
   "display_name": "Python 3 (ipykernel)",
   "language": "python",
   "name": "python3"
  },
  "language_info": {
   "codemirror_mode": {
    "name": "ipython",
    "version": 3
   },
   "file_extension": ".py",
   "mimetype": "text/x-python",
   "name": "python",
   "nbconvert_exporter": "python",
   "pygments_lexer": "ipython3",
   "version": "3.12.4"
  }
 },
 "nbformat": 4,
 "nbformat_minor": 5
}
