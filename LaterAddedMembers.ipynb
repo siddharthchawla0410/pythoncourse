{
 "cells": [
  {
   "cell_type": "code",
   "execution_count": 11,
   "id": "5e8964c1-351e-41af-8ee2-505e236f2a18",
   "metadata": {},
   "outputs": [],
   "source": [
    "# there is no direct way to know which members are class members and which were added later. \n",
    "# But hack is we do difference of snapshots of variables present in class when created at init and when\n",
    "\n",
    "class MyClass:\n",
    "    def __init__(self):\n",
    "        self.a = 1\n",
    "        self.b = 2\n",
    "        # Snapshot the initial attributes\n",
    "        self._init_attrs = set(self.__dict__.keys())\n",
    "\n",
    "    def added_later(self):\n",
    "        # Compare current state with initial snapshot\n",
    "        return set(self.__dict__.keys()) - self._init_attrs\n",
    "\n",
    "    def class_defined_attrs(self):\n",
    "        return self._init_attrs\n"
   ]
  },
  {
   "cell_type": "code",
   "execution_count": 12,
   "id": "c8f256fd-daa0-40d6-bfe3-8989ba7e4b81",
   "metadata": {},
   "outputs": [
    {
     "name": "stdout",
     "output_type": "stream",
     "text": [
      "Class-defined attributes: {'a', 'b'}\n",
      "Added later: {'_init_attrs', 'd', 'c'}\n"
     ]
    }
   ],
   "source": [
    "obj = MyClass()\n",
    "obj.c = 3  # Dynamically added\n",
    "obj.d = 4\n",
    "\n",
    "print(\"Class-defined attributes:\", obj.class_defined_attrs())\n",
    "print(\"Added later:\", obj.added_later())\n"
   ]
  },
  {
   "cell_type": "code",
   "execution_count": null,
   "id": "844e92b6-38ee-4d54-b8cc-87cadb70f13a",
   "metadata": {},
   "outputs": [],
   "source": []
  }
 ],
 "metadata": {
  "kernelspec": {
   "display_name": "Python 3 (ipykernel)",
   "language": "python",
   "name": "python3"
  },
  "language_info": {
   "codemirror_mode": {
    "name": "ipython",
    "version": 3
   },
   "file_extension": ".py",
   "mimetype": "text/x-python",
   "name": "python",
   "nbconvert_exporter": "python",
   "pygments_lexer": "ipython3",
   "version": "3.12.4"
  }
 },
 "nbformat": 4,
 "nbformat_minor": 5
}
