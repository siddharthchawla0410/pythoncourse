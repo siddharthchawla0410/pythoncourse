{
 "cells": [
  {
   "cell_type": "code",
   "execution_count": 14,
   "id": "51d298c8",
   "metadata": {},
   "outputs": [],
   "source": [
    "# new has to return intance of \n",
    "class Car():\n",
    "    # new should return the object of class. Its first arg 'cls' is always of type class\n",
    "    def __new__(cls,name):\n",
    "        print(type(cls))\n",
    "        x=super()\n",
    "        print(type(x))\n",
    "        y=x.__new__(cls)\n",
    "        print(type(y))\n",
    "        cls.name=name\n",
    "        print(\"Object created\")\n",
    "        return y\n",
    "    \n",
    "    # init is used for initializing instance variables although not necessary\n",
    "    def __init__(self):\n",
    "        print(f\"Hellow\")"
   ]
  },
  {
   "cell_type": "code",
   "execution_count": 7,
   "id": "0791a1d6",
   "metadata": {},
   "outputs": [
    {
     "name": "stdout",
     "output_type": "stream",
     "text": [
      "Object created\n",
      "<class 'type'>\n",
      "<class 'super'>\n",
      "<class '__main__.Car'>\n"
     ]
    },
    {
     "ename": "TypeError",
     "evalue": "__init__() takes 1 positional argument but 2 were given",
     "output_type": "error",
     "traceback": [
      "\u001b[1;31m---------------------------------------------------------------------------\u001b[0m",
      "\u001b[1;31mTypeError\u001b[0m                                 Traceback (most recent call last)",
      "\u001b[1;32m~\\AppData\\Local\\Temp\\ipykernel_1916\\399414069.py\u001b[0m in \u001b[0;36m<module>\u001b[1;34m\u001b[0m\n\u001b[1;32m----> 1\u001b[1;33m \u001b[0mtata\u001b[0m\u001b[1;33m=\u001b[0m\u001b[0mCar\u001b[0m\u001b[1;33m(\u001b[0m\u001b[1;34m\"Punch\"\u001b[0m\u001b[1;33m)\u001b[0m\u001b[1;33m\u001b[0m\u001b[1;33m\u001b[0m\u001b[0m\n\u001b[0m",
      "\u001b[1;31mTypeError\u001b[0m: __init__() takes 1 positional argument but 2 were given"
     ]
    }
   ],
   "source": [
    "#init method is used as constructor so no.of args in Constructor should match no.of args init \n",
    "tata=Car(\"Punch\")"
   ]
  },
  {
   "cell_type": "code",
   "execution_count": 8,
   "id": "d804b7dd",
   "metadata": {},
   "outputs": [
    {
     "data": {
      "text/plain": [
       "__main__.Car"
      ]
     },
     "execution_count": 8,
     "metadata": {},
     "output_type": "execute_result"
    }
   ],
   "source": [
    "type(tata)"
   ]
  },
  {
   "cell_type": "code",
   "execution_count": 9,
   "id": "7d39c771",
   "metadata": {},
   "outputs": [
    {
     "data": {
      "text/plain": [
       "'Punch'"
      ]
     },
     "execution_count": 9,
     "metadata": {},
     "output_type": "execute_result"
    }
   ],
   "source": [
    "tata.name"
   ]
  },
  {
   "cell_type": "code",
   "execution_count": 10,
   "id": "887b185b",
   "metadata": {},
   "outputs": [
    {
     "ename": "TypeError",
     "evalue": "__new__() missing 1 required positional argument: 'name'",
     "output_type": "error",
     "traceback": [
      "\u001b[1;31m---------------------------------------------------------------------------\u001b[0m",
      "\u001b[1;31mTypeError\u001b[0m                                 Traceback (most recent call last)",
      "\u001b[1;32m~\\AppData\\Local\\Temp\\ipykernel_1916\\1931471148.py\u001b[0m in \u001b[0;36m<module>\u001b[1;34m\u001b[0m\n\u001b[1;32m----> 1\u001b[1;33m \u001b[0mmerc\u001b[0m\u001b[1;33m=\u001b[0m\u001b[0mCar\u001b[0m\u001b[1;33m(\u001b[0m\u001b[1;33m)\u001b[0m\u001b[1;33m\u001b[0m\u001b[1;33m\u001b[0m\u001b[0m\n\u001b[0m",
      "\u001b[1;31mTypeError\u001b[0m: __new__() missing 1 required positional argument: 'name'"
     ]
    }
   ],
   "source": [
    "# will not work as number of args in new do not match\n",
    "merc=Car()"
   ]
  },
  {
   "cell_type": "code",
   "execution_count": 12,
   "id": "6a386c0f",
   "metadata": {},
   "outputs": [
    {
     "name": "stdout",
     "output_type": "stream",
     "text": [
      "Creating a new Person object\n",
      "Initializing the Person object\n",
      "Person's name: John Doe, age: 30\n"
     ]
    }
   ],
   "source": [
    "#correct way\n",
    "class Person:\n",
    "    def __new__(cls, *args, **kwargs):\n",
    "        print(\"Creating a new Person object\")\n",
    "        instance = super().__new__(cls)\n",
    "        return instance\n",
    "\n",
    "    def __init__(self, name, age):\n",
    "        print(\"Initializing the Person object\")\n",
    "        self.name = name\n",
    "        self.age = age\n",
    "\n",
    "person = Person(\"John Doe\", 30)\n",
    "print(f\"Person's name: {person.name}, age: {person.age}\")"
   ]
  },
  {
   "cell_type": "code",
   "execution_count": null,
   "id": "b42c773f",
   "metadata": {},
   "outputs": [],
   "source": []
  }
 ],
 "metadata": {
  "kernelspec": {
   "display_name": "Python 3 (ipykernel)",
   "language": "python",
   "name": "python3"
  },
  "language_info": {
   "codemirror_mode": {
    "name": "ipython",
    "version": 3
   },
   "file_extension": ".py",
   "mimetype": "text/x-python",
   "name": "python",
   "nbconvert_exporter": "python",
   "pygments_lexer": "ipython3",
   "version": "3.7.6"
  }
 },
 "nbformat": 4,
 "nbformat_minor": 5
}
