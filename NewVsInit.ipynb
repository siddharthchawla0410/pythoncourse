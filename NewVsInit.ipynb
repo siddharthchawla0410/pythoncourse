{
 "cells": [
  {
   "cell_type": "code",
   "execution_count": 1,
   "id": "51d298c8",
   "metadata": {},
   "outputs": [],
   "source": [
    "# new has to return intance of \n",
    "class Car():\n",
    "    # new should return the object of class. Its first arg 'cls' is always of type class\n",
    "    def __new__(cls,name):\n",
    "        print(type(cls))\n",
    "        x=super()\n",
    "        print(type(x))\n",
    "        y=x.__new__(cls)\n",
    "        print(type(y))\n",
    "        cls.name=name\n",
    "        print(\"Object created\")\n",
    "        return y\n",
    "    \n",
    "    # init is used for initializing instance variables although not necessary\n",
    "    def __init__(self):\n",
    "        print(f\"Hellow\")"
   ]
  },
  {
   "cell_type": "code",
   "execution_count": 2,
   "id": "0791a1d6",
   "metadata": {},
   "outputs": [
    {
     "name": "stdout",
     "output_type": "stream",
     "text": [
      "<class 'type'>\n",
      "<class 'super'>\n",
      "<class '__main__.Car'>\n",
      "Object created\n"
     ]
    },
    {
     "ename": "TypeError",
     "evalue": "Car.__init__() takes 1 positional argument but 2 were given",
     "output_type": "error",
     "traceback": [
      "\u001b[31m---------------------------------------------------------------------------\u001b[39m",
      "\u001b[31mTypeError\u001b[39m                                 Traceback (most recent call last)",
      "\u001b[36mCell\u001b[39m\u001b[36m \u001b[39m\u001b[32mIn[2]\u001b[39m\u001b[32m, line 2\u001b[39m\n\u001b[32m      1\u001b[39m \u001b[38;5;66;03m#init method is used as constructor so no.of args in Constructor should match no.of args init and new as well\u001b[39;00m\n\u001b[32m----> \u001b[39m\u001b[32m2\u001b[39m tata=\u001b[43mCar\u001b[49m\u001b[43m(\u001b[49m\u001b[33;43m\"\u001b[39;49m\u001b[33;43mPunch\u001b[39;49m\u001b[33;43m\"\u001b[39;49m\u001b[43m)\u001b[49m\n",
      "\u001b[31mTypeError\u001b[39m: Car.__init__() takes 1 positional argument but 2 were given"
     ]
    }
   ],
   "source": [
    "#init method is used as constructor so no.of args in Constructor should match no.of args init and new as well\n",
    "tata=Car(\"Punch\")"
   ]
  },
  {
   "cell_type": "code",
   "execution_count": 3,
   "id": "d804b7dd",
   "metadata": {},
   "outputs": [
    {
     "ename": "NameError",
     "evalue": "name 'tata' is not defined",
     "output_type": "error",
     "traceback": [
      "\u001b[31m---------------------------------------------------------------------------\u001b[39m",
      "\u001b[31mNameError\u001b[39m                                 Traceback (most recent call last)",
      "\u001b[36mCell\u001b[39m\u001b[36m \u001b[39m\u001b[32mIn[3]\u001b[39m\u001b[32m, line 1\u001b[39m\n\u001b[32m----> \u001b[39m\u001b[32m1\u001b[39m \u001b[38;5;28mtype\u001b[39m(\u001b[43mtata\u001b[49m)\n",
      "\u001b[31mNameError\u001b[39m: name 'tata' is not defined"
     ]
    }
   ],
   "source": [
    "type(tata)"
   ]
  },
  {
   "cell_type": "code",
   "execution_count": 4,
   "id": "7d39c771",
   "metadata": {},
   "outputs": [
    {
     "ename": "NameError",
     "evalue": "name 'tata' is not defined",
     "output_type": "error",
     "traceback": [
      "\u001b[31m---------------------------------------------------------------------------\u001b[39m",
      "\u001b[31mNameError\u001b[39m                                 Traceback (most recent call last)",
      "\u001b[36mCell\u001b[39m\u001b[36m \u001b[39m\u001b[32mIn[4]\u001b[39m\u001b[32m, line 1\u001b[39m\n\u001b[32m----> \u001b[39m\u001b[32m1\u001b[39m \u001b[43mtata\u001b[49m.name\n",
      "\u001b[31mNameError\u001b[39m: name 'tata' is not defined"
     ]
    }
   ],
   "source": [
    "tata.name"
   ]
  },
  {
   "cell_type": "code",
   "execution_count": 10,
   "id": "887b185b",
   "metadata": {},
   "outputs": [
    {
     "ename": "TypeError",
     "evalue": "__new__() missing 1 required positional argument: 'name'",
     "output_type": "error",
     "traceback": [
      "\u001b[1;31m---------------------------------------------------------------------------\u001b[0m",
      "\u001b[1;31mTypeError\u001b[0m                                 Traceback (most recent call last)",
      "\u001b[1;32m~\\AppData\\Local\\Temp\\ipykernel_1916\\1931471148.py\u001b[0m in \u001b[0;36m<module>\u001b[1;34m\u001b[0m\n\u001b[1;32m----> 1\u001b[1;33m \u001b[0mmerc\u001b[0m\u001b[1;33m=\u001b[0m\u001b[0mCar\u001b[0m\u001b[1;33m(\u001b[0m\u001b[1;33m)\u001b[0m\u001b[1;33m\u001b[0m\u001b[1;33m\u001b[0m\u001b[0m\n\u001b[0m",
      "\u001b[1;31mTypeError\u001b[0m: __new__() missing 1 required positional argument: 'name'"
     ]
    }
   ],
   "source": [
    "# will not work as number of args in new do not match\n",
    "merc=Car()"
   ]
  },
  {
   "cell_type": "code",
   "execution_count": 12,
   "id": "6a386c0f",
   "metadata": {},
   "outputs": [
    {
     "name": "stdout",
     "output_type": "stream",
     "text": [
      "Creating a new Person object\n",
      "Initializing the Person object\n",
      "Person's name: John Doe, age: 30\n"
     ]
    }
   ],
   "source": [
    "#correct way\n",
    "class Person:\n",
    "    def __new__(cls, *args, **kwargs):\n",
    "        print(\"Creating a new Person object\")\n",
    "        instance = super().__new__(cls)\n",
    "        return instance\n",
    "\n",
    "    def __init__(self, name, age):\n",
    "        print(\"Initializing the Person object\")\n",
    "        self.name = name\n",
    "        self.age = age\n",
    "\n",
    "person = Person(\"John Doe\", 30)\n",
    "print(f\"Person's name: {person.name}, age: {person.age}\")"
   ]
  },
  {
   "cell_type": "code",
   "execution_count": 5,
   "id": "b42c773f",
   "metadata": {},
   "outputs": [],
   "source": [
    "#worng way\n",
    "class Computer:\n",
    "    def __new__(cls, name,age,cpus):\n",
    "        print(\"Creating a new Person object\")\n",
    "        instance = super().__new__(cls)\n",
    "        return instance\n",
    "\n",
    "    def __init__(self, name, age):\n",
    "        print(\"Initializing the Person object\")\n",
    "        self.name = name\n",
    "        self.age = age"
   ]
  },
  {
   "cell_type": "code",
   "execution_count": 6,
   "id": "748e76f8",
   "metadata": {},
   "outputs": [
    {
     "ename": "TypeError",
     "evalue": "__new__() missing 1 required positional argument: 'cpus'",
     "output_type": "error",
     "traceback": [
      "\u001b[1;31m---------------------------------------------------------------------------\u001b[0m",
      "\u001b[1;31mTypeError\u001b[0m                                 Traceback (most recent call last)",
      "\u001b[1;32m~\\AppData\\Local\\Temp\\ipykernel_8296\\482880340.py\u001b[0m in \u001b[0;36m<module>\u001b[1;34m\u001b[0m\n\u001b[1;32m----> 1\u001b[1;33m \u001b[0mdesktop\u001b[0m \u001b[1;33m=\u001b[0m \u001b[0mComputer\u001b[0m\u001b[1;33m(\u001b[0m\u001b[1;34m\"DELL\"\u001b[0m\u001b[1;33m,\u001b[0m \u001b[1;36m30\u001b[0m\u001b[1;33m)\u001b[0m\u001b[1;33m\u001b[0m\u001b[1;33m\u001b[0m\u001b[0m\n\u001b[0m\u001b[0;32m      2\u001b[0m \u001b[0mprint\u001b[0m\u001b[1;33m(\u001b[0m\u001b[1;34mf\"Computer: {desktop.name}, age: {desktop.age}\"\u001b[0m\u001b[1;33m)\u001b[0m\u001b[1;33m\u001b[0m\u001b[1;33m\u001b[0m\u001b[0m\n",
      "\u001b[1;31mTypeError\u001b[0m: __new__() missing 1 required positional argument: 'cpus'"
     ]
    }
   ],
   "source": [
    "# we should always keep args in new nd init same. Or args in new should be variable\n",
    "desktop = Computer(\"DELL\", 30)\n",
    "print(f\"Computer: {desktop.name}, age: {desktop.age}\")"
   ]
  },
  {
   "cell_type": "code",
   "execution_count": null,
   "id": "4eae5be9",
   "metadata": {},
   "outputs": [],
   "source": []
  }
 ],
 "metadata": {
  "kernelspec": {
   "display_name": "Python 3 (ipykernel)",
   "language": "python",
   "name": "python3"
  },
  "language_info": {
   "codemirror_mode": {
    "name": "ipython",
    "version": 3
   },
   "file_extension": ".py",
   "mimetype": "text/x-python",
   "name": "python",
   "nbconvert_exporter": "python",
   "pygments_lexer": "ipython3",
   "version": "3.12.4"
  }
 },
 "nbformat": 4,
 "nbformat_minor": 5
}
